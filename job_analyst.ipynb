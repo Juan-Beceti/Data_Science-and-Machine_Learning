{
 "cells": [
  {
   "cell_type": "code",
   "execution_count": 33,
   "metadata": {},
   "outputs": [
    {
     "data": {
      "text/html": [
       "<div>\n",
       "<style scoped>\n",
       "    .dataframe tbody tr th:only-of-type {\n",
       "        vertical-align: middle;\n",
       "    }\n",
       "\n",
       "    .dataframe tbody tr th {\n",
       "        vertical-align: top;\n",
       "    }\n",
       "\n",
       "    .dataframe thead th {\n",
       "        text-align: right;\n",
       "    }\n",
       "</style>\n",
       "<table border=\"1\" class=\"dataframe\">\n",
       "  <thead>\n",
       "    <tr style=\"text-align: right;\">\n",
       "      <th></th>\n",
       "      <th>Category</th>\n",
       "      <th>Workplace</th>\n",
       "      <th>Location</th>\n",
       "      <th>Department</th>\n",
       "      <th>Type</th>\n",
       "    </tr>\n",
       "  </thead>\n",
       "  <tbody>\n",
       "    <tr>\n",
       "      <th>1093</th>\n",
       "      <td>UI/UX</td>\n",
       "      <td>On-site</td>\n",
       "      <td>Amsterdam, North Holland, Netherlands</td>\n",
       "      <td>Marketing, Communications and Events</td>\n",
       "      <td>Full time</td>\n",
       "    </tr>\n",
       "    <tr>\n",
       "      <th>1094</th>\n",
       "      <td>UI/UX</td>\n",
       "      <td>Remote</td>\n",
       "      <td>Spain</td>\n",
       "      <td>Product &amp; Technology</td>\n",
       "      <td>Full time</td>\n",
       "    </tr>\n",
       "  </tbody>\n",
       "</table>\n",
       "</div>"
      ],
      "text/plain": [
       "     Category Workplace                               Location  \\\n",
       "1093    UI/UX   On-site  Amsterdam, North Holland, Netherlands   \n",
       "1094    UI/UX    Remote                                  Spain   \n",
       "\n",
       "                                Department       Type  \n",
       "1093  Marketing, Communications and Events  Full time  \n",
       "1094                  Product & Technology  Full time  "
      ]
     },
     "execution_count": 33,
     "metadata": {},
     "output_type": "execute_result"
    }
   ],
   "source": [
    "import pandas as pd\n",
    "import numpy as np\n",
    "import matplotlib.pyplot as plt\n",
    "import seaborn as sns\n",
    "\n",
    "job = pd.DataFrame(data = pd.read_csv(\"job_postings.csv\"))\n",
    "job = job.drop(\"Unnamed: 0\", axis=1)\n",
    "job.tail(2)"
   ]
  },
  {
   "cell_type": "code",
   "execution_count": 34,
   "metadata": {},
   "outputs": [
    {
     "name": "stdout",
     "output_type": "stream",
     "text": [
      "['Full time' 'Contract' 'Other' 'Part time' 'Temporary' 'Temps plein']\n",
      "['Remote' 'On-site' 'Hybride' 'Sur cite']\n"
     ]
    }
   ],
   "source": [
    "def replace_df(dataframe, columna):\n",
    "    dataframe[columna] = dataframe[columna].replace({\"Hybrid\":\"Hybride\"})\n",
    "    dataframe = dataframe.dropna(subset = columna)\n",
    "    return dataframe\n",
    "\n",
    "job = replace_df(job, \"Workplace\")\n",
    "job = replace_df(job, \"Type\")\n",
    "\n",
    "\n",
    "print(job[\"Type\"].unique())\n",
    "print(job[\"Workplace\"].unique())"
   ]
  },
  {
   "cell_type": "code",
   "execution_count": 35,
   "metadata": {},
   "outputs": [
    {
     "data": {
      "text/html": [
       "<div>\n",
       "<style scoped>\n",
       "    .dataframe tbody tr th:only-of-type {\n",
       "        vertical-align: middle;\n",
       "    }\n",
       "\n",
       "    .dataframe tbody tr th {\n",
       "        vertical-align: top;\n",
       "    }\n",
       "\n",
       "    .dataframe thead th {\n",
       "        text-align: right;\n",
       "    }\n",
       "</style>\n",
       "<table border=\"1\" class=\"dataframe\">\n",
       "  <thead>\n",
       "    <tr style=\"text-align: right;\">\n",
       "      <th></th>\n",
       "      <th>Category</th>\n",
       "      <th>Amount</th>\n",
       "    </tr>\n",
       "  </thead>\n",
       "  <tbody>\n",
       "    <tr>\n",
       "      <th>0</th>\n",
       "      <td>Data Scientist</td>\n",
       "      <td>161</td>\n",
       "    </tr>\n",
       "    <tr>\n",
       "      <th>1</th>\n",
       "      <td>UI/UX</td>\n",
       "      <td>160</td>\n",
       "    </tr>\n",
       "    <tr>\n",
       "      <th>2</th>\n",
       "      <td>Software Developer</td>\n",
       "      <td>158</td>\n",
       "    </tr>\n",
       "    <tr>\n",
       "      <th>3</th>\n",
       "      <td>HR</td>\n",
       "      <td>153</td>\n",
       "    </tr>\n",
       "    <tr>\n",
       "      <th>4</th>\n",
       "      <td>Business Analyst</td>\n",
       "      <td>143</td>\n",
       "    </tr>\n",
       "    <tr>\n",
       "      <th>5</th>\n",
       "      <td>Cloud</td>\n",
       "      <td>138</td>\n",
       "    </tr>\n",
       "  </tbody>\n",
       "</table>\n",
       "</div>"
      ],
      "text/plain": [
       "             Category  Amount\n",
       "0      Data Scientist     161\n",
       "1               UI/UX     160\n",
       "2  Software Developer     158\n",
       "3                  HR     153\n",
       "4    Business Analyst     143\n",
       "5               Cloud     138"
      ]
     },
     "execution_count": 35,
     "metadata": {},
     "output_type": "execute_result"
    }
   ],
   "source": [
    "job_category = job.groupby(\"Category\").size().reset_index(name = \"Amount\").sort_values(by = \"Amount\", ascending = False)\n",
    "job_category = job_category.reset_index()\n",
    "job_category.drop(columns = \"index\")"
   ]
  },
  {
   "cell_type": "code",
   "execution_count": 36,
   "metadata": {},
   "outputs": [
    {
     "data": {
      "text/html": [
       "<div>\n",
       "<style scoped>\n",
       "    .dataframe tbody tr th:only-of-type {\n",
       "        vertical-align: middle;\n",
       "    }\n",
       "\n",
       "    .dataframe tbody tr th {\n",
       "        vertical-align: top;\n",
       "    }\n",
       "\n",
       "    .dataframe thead th {\n",
       "        text-align: right;\n",
       "    }\n",
       "</style>\n",
       "<table border=\"1\" class=\"dataframe\">\n",
       "  <thead>\n",
       "    <tr style=\"text-align: right;\">\n",
       "      <th>Type</th>\n",
       "      <th>Contract</th>\n",
       "      <th>Full time</th>\n",
       "      <th>Other</th>\n",
       "      <th>Part time</th>\n",
       "      <th>Temporary</th>\n",
       "      <th>Temps plein</th>\n",
       "    </tr>\n",
       "    <tr>\n",
       "      <th>Category</th>\n",
       "      <th></th>\n",
       "      <th></th>\n",
       "      <th></th>\n",
       "      <th></th>\n",
       "      <th></th>\n",
       "      <th></th>\n",
       "    </tr>\n",
       "  </thead>\n",
       "  <tbody>\n",
       "    <tr>\n",
       "      <th>Business Analyst</th>\n",
       "      <td>14</td>\n",
       "      <td>126</td>\n",
       "      <td>1</td>\n",
       "      <td>2</td>\n",
       "      <td>0</td>\n",
       "      <td>0</td>\n",
       "    </tr>\n",
       "    <tr>\n",
       "      <th>Cloud</th>\n",
       "      <td>4</td>\n",
       "      <td>132</td>\n",
       "      <td>2</td>\n",
       "      <td>0</td>\n",
       "      <td>0</td>\n",
       "      <td>0</td>\n",
       "    </tr>\n",
       "    <tr>\n",
       "      <th>Data Scientist</th>\n",
       "      <td>1</td>\n",
       "      <td>154</td>\n",
       "      <td>1</td>\n",
       "      <td>1</td>\n",
       "      <td>4</td>\n",
       "      <td>0</td>\n",
       "    </tr>\n",
       "    <tr>\n",
       "      <th>HR</th>\n",
       "      <td>11</td>\n",
       "      <td>131</td>\n",
       "      <td>1</td>\n",
       "      <td>7</td>\n",
       "      <td>2</td>\n",
       "      <td>1</td>\n",
       "    </tr>\n",
       "    <tr>\n",
       "      <th>Software Developer</th>\n",
       "      <td>4</td>\n",
       "      <td>141</td>\n",
       "      <td>5</td>\n",
       "      <td>0</td>\n",
       "      <td>5</td>\n",
       "      <td>3</td>\n",
       "    </tr>\n",
       "    <tr>\n",
       "      <th>UI/UX</th>\n",
       "      <td>4</td>\n",
       "      <td>151</td>\n",
       "      <td>3</td>\n",
       "      <td>0</td>\n",
       "      <td>2</td>\n",
       "      <td>0</td>\n",
       "    </tr>\n",
       "  </tbody>\n",
       "</table>\n",
       "</div>"
      ],
      "text/plain": [
       "Type                Contract  Full time  Other  Part time  Temporary  \\\n",
       "Category                                                               \n",
       "Business Analyst          14        126      1          2          0   \n",
       "Cloud                      4        132      2          0          0   \n",
       "Data Scientist             1        154      1          1          4   \n",
       "HR                        11        131      1          7          2   \n",
       "Software Developer         4        141      5          0          5   \n",
       "UI/UX                      4        151      3          0          2   \n",
       "\n",
       "Type                Temps plein  \n",
       "Category                         \n",
       "Business Analyst              0  \n",
       "Cloud                         0  \n",
       "Data Scientist                0  \n",
       "HR                            1  \n",
       "Software Developer            3  \n",
       "UI/UX                         0  "
      ]
     },
     "execution_count": 36,
     "metadata": {},
     "output_type": "execute_result"
    }
   ],
   "source": [
    "job_type = job.groupby([\"Category\", \"Type\"])[\"Type\"].count().reset_index(name = \"Amount\")\n",
    "job_type = pd.DataFrame(data = job_type)\n",
    "job_type.pivot_table(index = \"Category\", columns = \"Type\", values = \"Amount\", fill_value= 0)"
   ]
  },
  {
   "cell_type": "code",
   "execution_count": 37,
   "metadata": {},
   "outputs": [
    {
     "data": {
      "image/png": "[encoded data removed]",
      "text/plain": [
       "<Figure size 600x400 with 1 Axes>"
      ]
     },
     "metadata": {},
     "output_type": "display_data"
    }
   ],
   "source": [
    "job_type_2 = job.groupby([\"Category\", \"Type\"])[\"Type\"].count().reset_index(name = \"Amount\")\n",
    "job_type_2 = pd.DataFrame(data = job_type_2)\n",
    "\n",
    "plt.figure(figsize = (6,4))\n",
    "sns.barplot(data = job_type_2, x = \"Type\", y = \"Amount\", hue = \"Category\", palette = \"rocket\")\n",
    "plt.xticks(rotation = 30)\n",
    "plt.show()"
   ]
  },
  {
   "cell_type": "code",
   "execution_count": 38,
   "metadata": {},
   "outputs": [
    {
     "data": {
      "text/html": [
       "<div>\n",
       "<style scoped>\n",
       "    .dataframe tbody tr th:only-of-type {\n",
       "        vertical-align: middle;\n",
       "    }\n",
       "\n",
       "    .dataframe tbody tr th {\n",
       "        vertical-align: top;\n",
       "    }\n",
       "\n",
       "    .dataframe thead th {\n",
       "        text-align: right;\n",
       "    }\n",
       "</style>\n",
       "<table border=\"1\" class=\"dataframe\">\n",
       "  <thead>\n",
       "    <tr style=\"text-align: right;\">\n",
       "      <th>Workplace</th>\n",
       "      <th>Hybride</th>\n",
       "      <th>On-site</th>\n",
       "      <th>Remote</th>\n",
       "      <th>Sur cite</th>\n",
       "    </tr>\n",
       "    <tr>\n",
       "      <th>Category</th>\n",
       "      <th></th>\n",
       "      <th></th>\n",
       "      <th></th>\n",
       "      <th></th>\n",
       "    </tr>\n",
       "  </thead>\n",
       "  <tbody>\n",
       "    <tr>\n",
       "      <th>Business Analyst</th>\n",
       "      <td>33</td>\n",
       "      <td>74</td>\n",
       "      <td>36</td>\n",
       "      <td>0</td>\n",
       "    </tr>\n",
       "    <tr>\n",
       "      <th>Cloud</th>\n",
       "      <td>31</td>\n",
       "      <td>48</td>\n",
       "      <td>59</td>\n",
       "      <td>0</td>\n",
       "    </tr>\n",
       "    <tr>\n",
       "      <th>Data Scientist</th>\n",
       "      <td>24</td>\n",
       "      <td>73</td>\n",
       "      <td>64</td>\n",
       "      <td>0</td>\n",
       "    </tr>\n",
       "    <tr>\n",
       "      <th>HR</th>\n",
       "      <td>18</td>\n",
       "      <td>84</td>\n",
       "      <td>51</td>\n",
       "      <td>0</td>\n",
       "    </tr>\n",
       "    <tr>\n",
       "      <th>Software Developer</th>\n",
       "      <td>17</td>\n",
       "      <td>72</td>\n",
       "      <td>66</td>\n",
       "      <td>3</td>\n",
       "    </tr>\n",
       "    <tr>\n",
       "      <th>UI/UX</th>\n",
       "      <td>25</td>\n",
       "      <td>44</td>\n",
       "      <td>91</td>\n",
       "      <td>0</td>\n",
       "    </tr>\n",
       "  </tbody>\n",
       "</table>\n",
       "</div>"
      ],
      "text/plain": [
       "Workplace           Hybride  On-site  Remote  Sur cite\n",
       "Category                                              \n",
       "Business Analyst         33       74      36         0\n",
       "Cloud                    31       48      59         0\n",
       "Data Scientist           24       73      64         0\n",
       "HR                       18       84      51         0\n",
       "Software Developer       17       72      66         3\n",
       "UI/UX                    25       44      91         0"
      ]
     },
     "execution_count": 38,
     "metadata": {},
     "output_type": "execute_result"
    }
   ],
   "source": [
    "job_work = job.groupby([\"Category\", \"Workplace\"])[\"Workplace\"].count().reset_index(name = \"Amount\").sort_values(\"Amount\", ascending = False)\n",
    "job_work = job_work.pivot_table(index = \"Category\", columns = \"Workplace\", values = \"Amount\")\n",
    "job_work = job_work.fillna(0)\n",
    "job_work = job_work.astype(int)\n",
    "job_work"
   ]
  },
  {
   "cell_type": "code",
   "execution_count": 39,
   "metadata": {},
   "outputs": [
    {
     "data": {
      "image/png": "[encoded data removed]",
      "text/plain": [
       "<Figure size 640x480 with 1 Axes>"
      ]
     },
     "metadata": {},
     "output_type": "display_data"
    }
   ],
   "source": [
    "job_work_2 = job.groupby([\"Category\", \"Workplace\"])[\"Workplace\"].count().reset_index(name = \"Amount\").sort_values(\"Amount\", ascending = False)\n",
    "\n",
    "sns.barplot(job_work_2, y = \"Amount\", x = \"Category\", hue = \"Workplace\", palette = \"rocket\")\n",
    "plt.xticks(rotation = 30)\n",
    "plt.show()"
   ]
  },
  {
   "cell_type": "code",
   "execution_count": 40,
   "metadata": {},
   "outputs": [
    {
     "name": "stderr",
     "output_type": "stream",
     "text": [
      "C:\\Users\\pablo\\AppData\\Local\\Temp\\ipykernel_3460\\1744590541.py:8: SettingWithCopyWarning: \n",
      "A value is trying to be set on a copy of a slice from a DataFrame.\n",
      "Try using .loc[row_indexer,col_indexer] = value instead\n",
      "\n",
      "See the caveats in the documentation: https://pandas.pydata.org/pandas-docs/stable/user_guide/indexing.html#returning-a-view-versus-a-copy\n",
      "  job_work_type[[\"Category\", \"Workplace\", \"Type\"]] = model.fit_transform(job_work_type[[\"Category\", \"Workplace\", \"Type\"]])\n"
     ]
    }
   ],
   "source": [
    "job_work_type = job[[\"Category\", \"Workplace\", \"Type\"]]\n",
    "\n",
    "from sklearn.preprocessing import OrdinalEncoder\n",
    "\n",
    "\n",
    "model = OrdinalEncoder()\n",
    "\n",
    "job_work_type[[\"Category\", \"Workplace\", \"Type\"]] = model.fit_transform(job_work_type[[\"Category\", \"Workplace\", \"Type\"]])\n",
    "job_work_type = job_work_type.astype(int)"
   ]
  },
  {
   "cell_type": "code",
   "execution_count": 41,
   "metadata": {},
   "outputs": [
    {
     "name": "stdout",
     "output_type": "stream",
     "text": [
      "(100, 3)\n",
      "(100, 3)\n",
      "(100, 3)\n",
      "(100, 3)\n",
      "(100, 3)\n",
      "(100, 3)\n"
     ]
    }
   ],
   "source": [
    "#RESAMPLING\n",
    "\n",
    "job_work_0 = job_work_type[job_work_type[\"Category\"] == 0]\n",
    "job_work_1 = job_work_type[job_work_type[\"Category\"] == 1]\n",
    "job_work_2 = job_work_type[job_work_type[\"Category\"] == 2]\n",
    "job_work_3 = job_work_type[job_work_type[\"Category\"] == 3]\n",
    "job_work_4 = job_work_type[job_work_type[\"Category\"] == 4]\n",
    "job_work_5 = job_work_type[job_work_type[\"Category\"] == 5]\n",
    "\n",
    "\n",
    "job_work_0 = job_work_0.sample(100, random_state = 103)\n",
    "job_work_1 = job_work_1.sample(100, random_state = 103)\n",
    "job_work_2 = job_work_2.sample(100, random_state = 103)\n",
    "job_work_3 = job_work_3.sample(100, random_state = 103)\n",
    "job_work_4 = job_work_4.sample(100, random_state = 103)\n",
    "job_work_5 = job_work_5.sample(100, random_state = 103)\n",
    "\n",
    "\n",
    "print(job_work_0.shape)\n",
    "print(job_work_1.shape)\n",
    "print(job_work_2.shape)\n",
    "print(job_work_3.shape)\n",
    "print(job_work_4.shape)\n",
    "print(job_work_5.shape)"
   ]
  },
  {
   "cell_type": "code",
   "execution_count": 42,
   "metadata": {},
   "outputs": [
    {
     "data": {
      "text/html": [
       "<div>\n",
       "<style scoped>\n",
       "    .dataframe tbody tr th:only-of-type {\n",
       "        vertical-align: middle;\n",
       "    }\n",
       "\n",
       "    .dataframe tbody tr th {\n",
       "        vertical-align: top;\n",
       "    }\n",
       "\n",
       "    .dataframe thead th {\n",
       "        text-align: right;\n",
       "    }\n",
       "</style>\n",
       "<table border=\"1\" class=\"dataframe\">\n",
       "  <thead>\n",
       "    <tr style=\"text-align: right;\">\n",
       "      <th></th>\n",
       "      <th>Category</th>\n",
       "      <th>Workplace</th>\n",
       "      <th>Type</th>\n",
       "    </tr>\n",
       "  </thead>\n",
       "  <tbody>\n",
       "    <tr>\n",
       "      <th>959</th>\n",
       "      <td>5</td>\n",
       "      <td>2</td>\n",
       "      <td>1</td>\n",
       "    </tr>\n",
       "    <tr>\n",
       "      <th>933</th>\n",
       "      <td>5</td>\n",
       "      <td>2</td>\n",
       "      <td>1</td>\n",
       "    </tr>\n",
       "    <tr>\n",
       "      <th>1014</th>\n",
       "      <td>5</td>\n",
       "      <td>2</td>\n",
       "      <td>1</td>\n",
       "    </tr>\n",
       "  </tbody>\n",
       "</table>\n",
       "</div>"
      ],
      "text/plain": [
       "      Category  Workplace  Type\n",
       "959          5          2     1\n",
       "933          5          2     1\n",
       "1014         5          2     1"
      ]
     },
     "execution_count": 42,
     "metadata": {},
     "output_type": "execute_result"
    }
   ],
   "source": [
    "job_reduced = pd.concat([job_work_0,job_work_1,job_work_2,job_work_3,job_work_4,job_work_5], axis = 0)\n",
    "job_reduced.tail(3)"
   ]
  },
  {
   "cell_type": "code",
   "execution_count": 43,
   "metadata": {},
   "outputs": [
    {
     "name": "stdout",
     "output_type": "stream",
     "text": [
      "(540, 2)\n",
      "(60, 2)\n"
     ]
    }
   ],
   "source": [
    "y = job_reduced[\"Category\"]\n",
    "X = job_reduced.drop(\"Category\", axis = 1)\n",
    "\n",
    "\n",
    "from sklearn.model_selection import train_test_split\n",
    "\n",
    "X_train, X_test, y_train, y_test = train_test_split(X, y, test_size = 0.10, random_state = 100)\n",
    "\n",
    "print(X_train.shape)\n",
    "print(X_test.shape)"
   ]
  },
  {
   "cell_type": "code",
   "execution_count": 44,
   "metadata": {},
   "outputs": [
    {
     "data": {
      "text/plain": [
       "0.2351851851851852"
      ]
     },
     "execution_count": 44,
     "metadata": {},
     "output_type": "execute_result"
    }
   ],
   "source": [
    "from sklearn.linear_model import LogisticRegression\n",
    "\n",
    "clf = LogisticRegression(solver = 'lbfgs').fit(X_train, y_train)\n",
    "\n",
    "y_train_hat = clf.predict(X_train)\n",
    "y_test_hat = clf.predict(X_test)\n",
    "\n",
    "clf.score(X_train, y_train)"
   ]
  },
  {
   "cell_type": "code",
   "execution_count": 45,
   "metadata": {},
   "outputs": [
    {
     "name": "stdout",
     "output_type": "stream",
     "text": [
      "Entrenamiento: -1.554755896189675\n",
      "Prueba: -1.5339366515837098\n"
     ]
    },
    {
     "data": {
      "image/png": "[encoded data removed]",
      "text/plain": [
       "<Figure size 640x480 with 2 Axes>"
      ]
     },
     "metadata": {},
     "output_type": "display_data"
    }
   ],
   "source": [
    "from sklearn.metrics import confusion_matrix\n",
    "from sklearn.metrics import r2_score\n",
    "\n",
    "\n",
    "conf_max = confusion_matrix(y_train, y_train_hat)\n",
    "\n",
    "print(\"Entrenamiento:\", r2_score(y_train, y_train_hat))\n",
    "print(\"Prueba:\", r2_score(y_test, y_test_hat))\n",
    "sns.heatmap(conf_max, annot = True)\n",
    "plt.show()"
   ]
  },
  {
   "cell_type": "code",
   "execution_count": 46,
   "metadata": {},
   "outputs": [
    {
     "name": "stdout",
     "output_type": "stream",
     "text": [
      "digraph Tree {\n",
      "node [shape=box, fontname=\"helvetica\"] ;\n",
      "edge [fontname=\"helvetica\"] ;\n",
      "0 [label=\"x[0] <= 1.5\\nsquared_error = 2.972\\nsamples = 540\\nvalue = 2.517\"] ;\n",
      "1 [label=\"x[1] <= 1.5\\nsquared_error = 2.868\\nsamples = 329\\nvalue = 2.304\"] ;\n",
      "0 -> 1 [labeldistance=2.5, labelangle=45, headlabel=\"True\"] ;\n",
      "2 [label=\"x[0] <= 0.5\\nsquared_error = 2.857\\nsamples = 311\\nvalue = 2.264\"] ;\n",
      "1 -> 2 ;\n",
      "3 [label=\"squared_error = 2.897\\nsamples = 97\\nvalue = 2.103\"] ;\n",
      "2 -> 3 ;\n",
      "4 [label=\"x[1] <= 0.5\\nsquared_error = 2.821\\nsamples = 214\\nvalue = 2.336\"] ;\n",
      "2 -> 4 ;\n",
      "5 [label=\"squared_error = 4.5\\nsamples = 8\\nvalue = 2.0\"] ;\n",
      "4 -> 5 ;\n",
      "6 [label=\"squared_error = 2.752\\nsamples = 206\\nvalue = 2.35\"] ;\n",
      "4 -> 6 ;\n",
      "7 [label=\"x[0] <= 0.5\\nsquared_error = 2.556\\nsamples = 18\\nvalue = 3.0\"] ;\n",
      "1 -> 7 ;\n",
      "8 [label=\"squared_error = 0.0\\nsamples = 2\\nvalue = 0.0\"] ;\n",
      "7 -> 8 ;\n",
      "9 [label=\"x[1] <= 2.5\\nsquared_error = 1.609\\nsamples = 16\\nvalue = 3.375\"] ;\n",
      "7 -> 9 ;\n",
      "10 [label=\"squared_error = 2.917\\nsamples = 6\\nvalue = 3.5\"] ;\n",
      "9 -> 10 ;\n",
      "11 [label=\"x[1] <= 3.5\\nsquared_error = 0.81\\nsamples = 10\\nvalue = 3.3\"] ;\n",
      "9 -> 11 ;\n",
      "12 [label=\"squared_error = 0.0\\nsamples = 3\\nvalue = 3.0\"] ;\n",
      "11 -> 12 ;\n",
      "13 [label=\"squared_error = 1.102\\nsamples = 7\\nvalue = 3.429\"] ;\n",
      "11 -> 13 ;\n",
      "14 [label=\"x[1] <= 0.5\\nsquared_error = 2.953\\nsamples = 211\\nvalue = 2.848\"] ;\n",
      "0 -> 14 [labeldistance=2.5, labelangle=-45, headlabel=\"False\"] ;\n",
      "15 [label=\"squared_error = 3.386\\nsamples = 18\\nvalue = 2.056\"] ;\n",
      "14 -> 15 ;\n",
      "16 [label=\"x[0] <= 2.5\\nsquared_error = 2.849\\nsamples = 193\\nvalue = 2.922\"] ;\n",
      "14 -> 16 ;\n",
      "17 [label=\"x[1] <= 3.5\\nsquared_error = 2.866\\nsamples = 191\\nvalue = 2.911\"] ;\n",
      "16 -> 17 ;\n",
      "18 [label=\"x[1] <= 1.5\\nsquared_error = 2.897\\nsamples = 188\\nvalue = 2.915\"] ;\n",
      "17 -> 18 ;\n",
      "19 [label=\"squared_error = 2.901\\nsamples = 185\\nvalue = 2.914\"] ;\n",
      "18 -> 19 ;\n",
      "20 [label=\"squared_error = 2.667\\nsamples = 3\\nvalue = 3.0\"] ;\n",
      "18 -> 20 ;\n",
      "21 [label=\"squared_error = 0.889\\nsamples = 3\\nvalue = 2.667\"] ;\n",
      "17 -> 21 ;\n",
      "22 [label=\"squared_error = 0.0\\nsamples = 2\\nvalue = 4.0\"] ;\n",
      "16 -> 22 ;\n",
      "}\n"
     ]
    }
   ],
   "source": [
    "from sklearn.tree import DecisionTreeRegressor\n",
    "\n",
    "tree_2 = DecisionTreeRegressor(max_depth = 5)\n",
    "\n",
    "reg = tree_2.fit(X_train, y_train)\n",
    "\n",
    "y_train_hat = reg.predict(X_train)\n",
    "y_test_hat = reg.predict(X_test)\n",
    "\n",
    "from sklearn.tree import export_graphviz\n",
    "\n",
    "print(export_graphviz(tree_2))"
   ]
  },
  {
   "cell_type": "code",
   "execution_count": 47,
   "metadata": {},
   "outputs": [
    {
     "name": "stdout",
     "output_type": "stream",
     "text": [
      "Entrenamiento: 0.054587259455480486\n",
      "Prueba: 0.06947322384443733\n"
     ]
    }
   ],
   "source": [
    "print(\"Entrenamiento:\", r2_score(y_train, y_train_hat))\n",
    "print(\"Prueba:\", r2_score(y_test, y_test_hat))"
   ]
  }
 ],
 "metadata": {
  "kernelspec": {
   "display_name": "Python 3",
   "language": "python",
   "name": "python3"
  },
  "language_info": {
   "codemirror_mode": {
    "name": "ipython",
    "version": 3
   },
   "file_extension": ".py",
   "mimetype": "text/x-python",
   "name": "python",
   "nbconvert_exporter": "python",
   "pygments_lexer": "ipython3",
   "version": "3.8.10"
  }
 },
 "nbformat": 4,
 "nbformat_minor": 2
}
